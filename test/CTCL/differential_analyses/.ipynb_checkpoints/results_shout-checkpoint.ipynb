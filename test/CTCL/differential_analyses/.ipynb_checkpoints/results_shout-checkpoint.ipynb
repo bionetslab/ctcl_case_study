{
 "cells": [
  {
   "cell_type": "markdown",
   "id": "2cf51d46-4fb5-4dc4-8c2e-6bf0870584bd",
   "metadata": {},
   "source": [
    "# I. All celltypes:"
   ]
  },
  {
   "cell_type": "markdown",
   "id": "148e0e3c-aa54-402d-8180-f8c35b315631",
   "metadata": {},
   "source": [
    "## a. Entropy:"
   ]
  },
  {
   "cell_type": "markdown",
   "id": "71b81ef3-20e5-4456-8a0b-94dca0373c8a",
   "metadata": {},
   "source": [
    "![test/CTCL/differential_analyses/shout/figures/violinplots/all_cell_types/allCelltypes_entropy_with_varying_radius.jpg](test/CTCL/differential_analyses/shout/figures/violinplots/all_cell_types/allCelltypes_entropy_with_varying_radius.jpg)"
   ]
  },
  {
   "cell_type": "markdown",
   "id": "e9477315-66c8-44ac-9b3c-fe9079f87b40",
   "metadata": {},
   "source": [
    "## b. Homophily:"
   ]
  },
  {
   "cell_type": "markdown",
   "id": "8658630a-419b-40e6-b9a1-f3f8ff951198",
   "metadata": {},
   "source": [
    "![test/CTCL/differential_analyses/shout/figures/violinplots/all_cell_types/allCelltypes_homophily_with_varying_radius.jpg](test/CTCL/differential_analyses/shout/figures/violinplots/all_cell_types/allCelltypes_homophily_with_varying_radius.jpg)"
   ]
  },
  {
   "cell_type": "markdown",
   "id": "3c07fd94-e2ce-4966-8028-89116255ea14",
   "metadata": {},
   "source": [
    "## c. Egophily:"
   ]
  },
  {
   "cell_type": "markdown",
   "id": "de14bd4d-05ff-4d78-ab56-ce2006245d69",
   "metadata": {},
   "source": [
    "![test/CTCL/differential_analyses/shout/figures/violinplots/all_cell_types/allCelltypes_egophily_with_varying_radius.jpg](test/CTCL/differential_analyses/shout/figures/violinplots/all_cell_types/allCelltypes_egophily_with_varying_radius.jpg)"
   ]
  },
  {
   "cell_type": "markdown",
   "id": "da3b0f58-f3ee-48f3-9ae6-717ea77521ef",
   "metadata": {},
   "source": [
    "# II. Individual celltypes:"
   ]
  },
  {
   "cell_type": "markdown",
   "id": "d046b202-0f69-47bc-bc3b-04ff40b6fe16",
   "metadata": {},
   "source": [
    "## 1. B-cells:"
   ]
  },
  {
   "cell_type": "markdown",
   "id": "35c4d377-eee6-402b-b4f0-650e2a4c94f1",
   "metadata": {},
   "source": [
    "### a. Entropy"
   ]
  },
  {
   "cell_type": "markdown",
   "id": "a621c707-b839-4c55-95f7-9297aaeac6d4",
   "metadata": {},
   "source": [
    "![test/CTCL/differential_analyses/shout/figures/violinplots/indiv_celltypes/B-cells_entropy_with_varying_radius.jpg](test/CTCL/differential_analyses/shout/figures/violinplots/indiv_celltypes/B-cells_entropy_with_varying_radius.jpg)"
   ]
  },
  {
   "cell_type": "markdown",
   "id": "aae077ca-e8d6-4d18-bbfe-f3b5ab124434",
   "metadata": {},
   "source": [
    "### b. Homophily:"
   ]
  },
  {
   "cell_type": "markdown",
   "id": "dd4a8bfd-113c-4910-bc64-a02407b226d5",
   "metadata": {},
   "source": [
    "![test/CTCL/differential_analyses/shout/figures/violinplots/indiv_celltypes/B-cells_homophily_with_varying_radius.jpg](test/CTCL/differential_analyses/shout/figures/violinplots/indiv_celltypes/B-cells_homophily_with_varying_radius.jpg)"
   ]
  },
  {
   "cell_type": "markdown",
   "id": "723bb076-5352-41c1-a6ac-1e7f8da9e4a0",
   "metadata": {},
   "source": [
    "### c. Egophily:"
   ]
  },
  {
   "cell_type": "markdown",
   "id": "48bf4020-9a2d-4ecf-85d3-1ee37b94d4ab",
   "metadata": {},
   "source": [
    "![test/CTCL/differential_analyses/shout/figures/violinplots/indiv_celltypes/B-cells_egophily_with_varying_radius.jpg](test/CTCL/differential_analyses/shout/figures/violinplots/indiv_celltypes/B-cells_egophily_with_varying_radius.jpg)"
   ]
  },
  {
   "cell_type": "markdown",
   "id": "35116fbb-8cb4-4369-887a-37ff1e112c65",
   "metadata": {},
   "source": [
    "## 2. Basal keratinocytes:"
   ]
  },
  {
   "cell_type": "markdown",
   "id": "ffff2e02-3430-426e-aaae-ed551d67eb50",
   "metadata": {},
   "source": [
    "### a. Entropy:"
   ]
  },
  {
   "cell_type": "markdown",
   "id": "c0efdef4-9d8e-42a1-bf45-fc59ce0c2aff",
   "metadata": {},
   "source": [
    "![test/CTCL/differential_analyses/shout/figures/violinplots/indiv_celltypes/Basal_keratinocytes_entropy_with_varying_radius.jpg](test/CTCL/differential_analyses/shout/figures/violinplots/indiv_celltypes/Basal_keratinocytes_entropy_with_varying_radius.jpg)"
   ]
  },
  {
   "cell_type": "markdown",
   "id": "21d4cdfc-bc23-44c9-ae08-971b20599da2",
   "metadata": {},
   "source": [
    "### b. Homophily:"
   ]
  },
  {
   "cell_type": "markdown",
   "id": "37eff9d5-70ff-4fb0-9154-194a07c066ca",
   "metadata": {},
   "source": [
    "![test/CTCL/differential_analyses/shout/figures/violinplots/indiv_celltypes/Basal_keratinocytes_homophily_with_varying_radius.jpg](test/CTCL/differential_analyses/shout/figures/violinplots/indiv_celltypes/Basal_keratinocytes_homophily_with_varying_radius.jpg)"
   ]
  },
  {
   "cell_type": "markdown",
   "id": "dad7c4c4-b82e-46a2-bc19-11f2eef70fea",
   "metadata": {},
   "source": [
    "### c. Egophily:"
   ]
  },
  {
   "cell_type": "markdown",
   "id": "2a534e24-559b-4ffc-91a2-9a560e044725",
   "metadata": {},
   "source": [
    "![test/CTCL/differential_analyses/shout/figures/violinplots/indiv_celltypes/Basal_keratinocytes_egophily_with_varying_radius.jpg](test/CTCL/differential_analyses/shout/figures/violinplots/indiv_celltypes/Basal_keratinocytes_egophily_with_varying_radius.jpg)"
   ]
  },
  {
   "cell_type": "markdown",
   "id": "77b2b521-2eaa-441a-a5a2-f4cc22f91ca5",
   "metadata": {},
   "source": [
    "## 3. Endothelial cells:"
   ]
  },
  {
   "cell_type": "markdown",
   "id": "ea29ecee-3cd0-4021-94fd-e34c322212cb",
   "metadata": {},
   "source": [
    "### a. Entropy:"
   ]
  },
  {
   "cell_type": "markdown",
   "id": "d86c25de-a2ba-4385-aed7-2641de394f51",
   "metadata": {},
   "source": [
    "![test/CTCL/differential_analyses/shout/figures/violinplots/indiv_celltypes/Endothelial_cells_entropy_with_varying_radius.jpg](test/CTCL/differential_analyses/shout/figures/violinplots/indiv_celltypes/Endothelial_cells_entropy_with_varying_radius.jpg)"
   ]
  },
  {
   "cell_type": "markdown",
   "id": "6660926a-ee67-431d-bf70-04b7458c75c7",
   "metadata": {},
   "source": [
    "### b. Homophily:"
   ]
  },
  {
   "cell_type": "markdown",
   "id": "9752dd41-a25b-4b6d-ae4a-fb9efe3e6862",
   "metadata": {},
   "source": [
    "![test/CTCL/differential_analyses/shout/figures/violinplots/indiv_celltypes/Endothelial_cells_homophily_with_varying_radius.jpg](test/CTCL/differential_analyses/shout/figures/violinplots/indiv_celltypes/Endothelial_cells_homophily_with_varying_radius.jpg)"
   ]
  },
  {
   "cell_type": "markdown",
   "id": "65ace6f3-f248-4cf2-95c6-1eb67e8a2ccb",
   "metadata": {},
   "source": [
    "### c. Egophily:"
   ]
  },
  {
   "cell_type": "markdown",
   "id": "27f45eb8-d4f9-475d-bfcb-43424c1d6cb4",
   "metadata": {},
   "source": [
    "![test/CTCL/differential_analyses/shout/figures/violinplots/indiv_celltypes/Endothelial_cells_egophily_with_varying_radius.jpg](test/CTCL/differential_analyses/shout/figures/violinplots/indiv_celltypes/Endothelial_cells_egophily_with_varying_radius.jpg)"
   ]
  },
  {
   "cell_type": "markdown",
   "id": "e4856a75-34c4-408b-9045-a6e8887938f6",
   "metadata": {},
   "source": [
    "## 4. Fibroblasts:"
   ]
  },
  {
   "cell_type": "markdown",
   "id": "a2738fce-91f2-4373-9976-21bedb03a1d6",
   "metadata": {},
   "source": [
    "### a. Entropy:"
   ]
  },
  {
   "cell_type": "markdown",
   "id": "8312408d-371d-443a-8fce-9381a1de549b",
   "metadata": {},
   "source": [
    "![test/CTCL/differential_analyses/shout/figures/violinplots/indiv_celltypes/Fibroblasts_entropy_with_varying_radius.jpg](test/CTCL/differential_analyses/shout/figures/violinplots/indiv_celltypes/Fibroblasts_entropy_with_varying_radius.jpg)"
   ]
  },
  {
   "cell_type": "markdown",
   "id": "52e8c228-07fb-4f08-b3b9-76446d11d569",
   "metadata": {},
   "source": [
    "### b. Homophily:"
   ]
  },
  {
   "cell_type": "markdown",
   "id": "c2e2a32a-e5b7-477e-91ca-4e3de23c4957",
   "metadata": {},
   "source": [
    "![test/CTCL/differential_analyses/shout/figures/violinplots/indiv_celltypes/Fibroblasts_homophily_with_varying_radius.jpg](test/CTCL/differential_analyses/shout/figures/violinplots/indiv_celltypes/Fibroblasts_homophily_with_varying_radius.jpg)"
   ]
  },
  {
   "cell_type": "markdown",
   "id": "59881254-1d51-485c-8e4a-7aa95355a0be",
   "metadata": {},
   "source": [
    "### c. Egophily:"
   ]
  },
  {
   "cell_type": "markdown",
   "id": "ca50c5a4-7c9b-477d-95e5-25a0d719712a",
   "metadata": {},
   "source": [
    "![test/CTCL/differential_analyses/shout/figures/violinplots/indiv_celltypes/Fibroblasts_egophily_with_varying_radius.jpg](test/CTCL/differential_analyses/shout/figures/violinplots/indiv_celltypes/Fibroblasts_egophily_with_varying_radius.jpg)"
   ]
  },
  {
   "cell_type": "markdown",
   "id": "199e5967-0439-40d5-8058-c819d7eb0c70",
   "metadata": {},
   "source": [
    "## 5. Langerhans cells:"
   ]
  },
  {
   "cell_type": "markdown",
   "id": "abb5047e-9ec1-4e64-815d-5db04e0e1979",
   "metadata": {},
   "source": [
    "### a. Entropy:"
   ]
  },
  {
   "cell_type": "markdown",
   "id": "5b1395c9-3cc1-4602-9b3b-004b26147603",
   "metadata": {},
   "source": [
    "![test/CTCL/differential_analyses/shout/figures/violinplots/indiv_celltypes/Langerhans_cells_entropy_with_varying_radius.jpg](test/CTCL/differential_analyses/shout/figures/violinplots/indiv_celltypes/Langerhans_cells_entropy_with_varying_radius.jpg)"
   ]
  },
  {
   "cell_type": "markdown",
   "id": "ebd7ce55-aac4-4601-8fdc-ca9407c84eb2",
   "metadata": {},
   "source": [
    "### b. Homophily:"
   ]
  },
  {
   "cell_type": "markdown",
   "id": "130d2ed6-fded-4653-9ae2-7094dafed1a4",
   "metadata": {},
   "source": [
    "![test/CTCL/differential_analyses/shout/figures/violinplots/indiv_celltypes/Langerhans_cells_homophily_with_varying_radius.jpg](test/CTCL/differential_analyses/shout/figures/violinplots/indiv_celltypes/Langerhans_cells_homophily_with_varying_radius.jpg)"
   ]
  },
  {
   "cell_type": "markdown",
   "id": "be6f3f71-14ae-49c8-9e5c-177d37cf5a34",
   "metadata": {},
   "source": [
    "### c. Egophily:"
   ]
  },
  {
   "cell_type": "markdown",
   "id": "8c61d9b7-c410-4758-adfd-14291ce1862e",
   "metadata": {},
   "source": [
    "![test/CTCL/differential_analyses/shout/figures/violinplots/indiv_celltypes/Langerhans_cells_egophily_with_varying_radius.jpg](test/CTCL/differential_analyses/shout/figures/violinplots/indiv_celltypes/Langerhans_cells_egophily_with_varying_radius.jpg)"
   ]
  },
  {
   "cell_type": "markdown",
   "id": "b6c2e66c-106b-42a4-a9c8-ecd47ed7c609",
   "metadata": {},
   "source": [
    "## 6. Macrophages"
   ]
  },
  {
   "cell_type": "markdown",
   "id": "b1e16463-2836-41f6-a23c-8bb4394572d3",
   "metadata": {},
   "source": [
    "### a. Entropy:"
   ]
  },
  {
   "cell_type": "markdown",
   "id": "807cd49d-a806-404f-946b-c600b1e4c1e4",
   "metadata": {},
   "source": [
    "![test/CTCL/differential_analyses/shout/figures/violinplots/indiv_celltypes/Macrophages_entropy_with_varying_radius.jpg](test/CTCL/differential_analyses/shout/figures/violinplots/indiv_celltypes/Macrophages_entropy_with_varying_radius.jpg)"
   ]
  },
  {
   "cell_type": "markdown",
   "id": "3dec3923-3ac1-45b6-a92f-d182ef54e03a",
   "metadata": {},
   "source": [
    "### b. Homophily:"
   ]
  },
  {
   "cell_type": "markdown",
   "id": "dcd30d2c-88ad-4fd5-ac06-430bae09e4db",
   "metadata": {},
   "source": [
    "![test/CTCL/differential_analyses/shout/figures/violinplots/indiv_celltypes/Macrophages_homophily_with_varying_radius.jpg](test/CTCL/differential_analyses/shout/figures/violinplots/indiv_celltypes/Macrophages_homophily_with_varying_radius.jpg)"
   ]
  },
  {
   "cell_type": "markdown",
   "id": "c9b84d9d-e7ef-4929-af51-63c2dde796fe",
   "metadata": {},
   "source": [
    "### c. Egophily:"
   ]
  },
  {
   "cell_type": "markdown",
   "id": "9c96c642-6770-4031-9526-eddd00854a29",
   "metadata": {},
   "source": [
    "![test/CTCL/differential_analyses/shout/figures/violinplots/indiv_celltypes/Macrophages_egophily_with_varying_radius.jpg](test/CTCL/differential_analyses/shout/figures/violinplots/indiv_celltypes/Macrophages_egophily_with_varying_radius.jpg)"
   ]
  },
  {
   "cell_type": "markdown",
   "id": "888cf0ad-9a7c-41a7-a455-463245210b96",
   "metadata": {},
   "source": [
    "## 7. Melanocytes:"
   ]
  },
  {
   "cell_type": "markdown",
   "id": "e29fe758-400f-4d51-a1a4-b94516c4ac26",
   "metadata": {},
   "source": [
    "### a. Entropy:"
   ]
  },
  {
   "cell_type": "markdown",
   "id": "da44df62-4381-451a-80ac-198d61af0828",
   "metadata": {},
   "source": [
    "![test/CTCL/differential_analyses/shout/figures/violinplots/indiv_celltypes/Melanocytes_entropy_with_varying_radius.jpg](test/CTCL/differential_analyses/shout/figures/violinplots/indiv_celltypes/Melanocytes_entropy_with_varying_radius.jpg)"
   ]
  },
  {
   "cell_type": "markdown",
   "id": "1ff12293-d8a6-4642-a122-33a31fc5e52c",
   "metadata": {},
   "source": [
    "### b. Homophily:"
   ]
  },
  {
   "cell_type": "markdown",
   "id": "1cdf59be-67a2-4270-ac53-2b7837798e4d",
   "metadata": {},
   "source": [
    "![test/CTCL/differential_analyses/shout/figures/violinplots/indiv_celltypes/Melanocytes_homophily_with_varying_radius.jpg](test/CTCL/differential_analyses/shout/figures/violinplots/indiv_celltypes/Melanocytes_homophily_with_varying_radius.jpg)"
   ]
  },
  {
   "cell_type": "markdown",
   "id": "dae5cb8c-81c7-4032-b58b-91d9a4989593",
   "metadata": {},
   "source": [
    "## c. Egophily:"
   ]
  },
  {
   "cell_type": "markdown",
   "id": "d1cd9cce-655e-4bc6-968e-93546ca5d2e1",
   "metadata": {},
   "source": [
    "![test/CTCL/differential_analyses/shout/figures/violinplots/indiv_celltypes/Melanocytes_egophily_with_varying_radius.jpg](test/CTCL/differential_analyses/shout/figures/violinplots/indiv_celltypes/Melanocytes_egophily_with_varying_radius.jpg)"
   ]
  },
  {
   "cell_type": "markdown",
   "id": "e6f72405-1813-4362-a03a-a7af9f8fb77a",
   "metadata": {},
   "source": [
    "## 8. Smooth muscle cells:"
   ]
  },
  {
   "cell_type": "markdown",
   "id": "25c984c7-619c-458d-8799-979c603d5a8f",
   "metadata": {},
   "source": [
    "### a. Entropy:"
   ]
  },
  {
   "cell_type": "markdown",
   "id": "eb41c33b-3a24-471b-8d74-8214acbcf1c2",
   "metadata": {},
   "source": [
    "![test/CTCL/differential_analyses/shout/figures/violinplots/indiv_celltypes/Smooth_muscle_cells_entropy_with_varying_radius.jpg](test/CTCL/differential_analyses/shout/figures/violinplots/indiv_celltypes/Smooth_muscle_cells_entropy_with_varying_radius.jpg)"
   ]
  },
  {
   "cell_type": "markdown",
   "id": "5275cb3a-fac9-448a-9c8c-9c128ef62db7",
   "metadata": {},
   "source": [
    "### b. Homophily:"
   ]
  },
  {
   "cell_type": "markdown",
   "id": "dc78a51c-036d-4c14-a8e2-3cabfcb62d03",
   "metadata": {},
   "source": [
    "![test/CTCL/differential_analyses/shout/figures/violinplots/indiv_celltypes/Smooth_muscle_cells_homophily_with_varying_radius.jpg](test/CTCL/differential_analyses/shout/figures/violinplots/indiv_celltypes/Smooth_muscle_cells_homophily_with_varying_radius.jpg)"
   ]
  },
  {
   "cell_type": "markdown",
   "id": "4cf05072-d7d8-4e21-a31c-b637ea69e812",
   "metadata": {},
   "source": [
    "### c. Egophily:"
   ]
  },
  {
   "cell_type": "markdown",
   "id": "0429edc2-d2d4-4c76-a44e-84087efbcaec",
   "metadata": {},
   "source": [
    "![test/CTCL/differential_analyses/shout/figures/violinplots/indiv_celltypes/Smooth_muscle_cells_egophily_with_varying_radius.jpg](test/CTCL/differential_analyses/shout/figures/violinplots/indiv_celltypes/Smooth_muscle_cells_egophily_with_varying_radius.jpg)"
   ]
  },
  {
   "cell_type": "markdown",
   "id": "7c18e929-dbd1-49f5-b5eb-4723b1010076",
   "metadata": {},
   "source": [
    "## 9. Suprabasal keratinocytes:"
   ]
  },
  {
   "cell_type": "markdown",
   "id": "f313c7bb-e9a1-4ae2-a795-7fdec895e760",
   "metadata": {},
   "source": [
    "### a. Entropy:"
   ]
  },
  {
   "cell_type": "markdown",
   "id": "51443123-1125-4059-bd4a-c499a0835999",
   "metadata": {},
   "source": [
    "![test/CTCL/differential_analyses/shout/figures/violinplots/indiv_celltypes/Suprabasal_keratinocytes_entropy_with_varying_radius.jpg](test/CTCL/differential_analyses/shout/figures/violinplots/indiv_celltypes/Suprabasal_keratinocytes_entropy_with_varying_radius.jpg)"
   ]
  },
  {
   "cell_type": "markdown",
   "id": "6e157e76-2848-421c-8b3a-9719f8847ff1",
   "metadata": {},
   "source": [
    "### b. Homophily:"
   ]
  },
  {
   "cell_type": "markdown",
   "id": "81279890-12e0-458c-9e0b-ee92dc978640",
   "metadata": {},
   "source": [
    "![test/CTCL/differential_analyses/shout/figures/violinplots/indiv_celltypes/Suprabasal_keratinocytes_homophily_with_varying_radius.jpg](test/CTCL/differential_analyses/shout/figures/violinplots/indiv_celltypes/Suprabasal_keratinocytes_homophily_with_varying_radius.jpg)"
   ]
  },
  {
   "cell_type": "markdown",
   "id": "a696ec3b-e195-4fed-9310-38997383fe7c",
   "metadata": {},
   "source": [
    "### c. Egophily:"
   ]
  },
  {
   "cell_type": "markdown",
   "id": "10e3df29-f8ea-4d6d-b343-353f0d99a186",
   "metadata": {},
   "source": [
    "![test/CTCL/differential_analyses/shout/figures/violinplots/indiv_celltypes/Suprabasal_keratinocytes_egophily_with_varying_radius.jpg](test/CTCL/differential_analyses/shout/figures/violinplots/indiv_celltypes/Suprabasal_keratinocytes_egophily_with_varying_radius.jpg)"
   ]
  },
  {
   "cell_type": "markdown",
   "id": "91ca75a8-a5e8-4d36-b80f-9135a257917f",
   "metadata": {},
   "source": [
    "## 10. T-cells:"
   ]
  },
  {
   "cell_type": "markdown",
   "id": "968db9ed-03f9-47cb-b30c-93fb89394404",
   "metadata": {},
   "source": [
    "### a. Entropy:"
   ]
  },
  {
   "cell_type": "markdown",
   "id": "2e3db757-bd28-427a-a2dc-42cd075d0b9b",
   "metadata": {},
   "source": [
    "![test/CTCL/differential_analyses/shout/figures/violinplots/indiv_celltypes/T-cells_entropy_with_varying_radius.jpg](test/CTCL/differential_analyses/shout/figures/violinplots/indiv_celltypes/T-cells_entropy_with_varying_radius.jpg)"
   ]
  },
  {
   "cell_type": "markdown",
   "id": "cadd33b6-a610-4e6a-8138-684892882792",
   "metadata": {},
   "source": [
    "### b. Homophily:"
   ]
  },
  {
   "cell_type": "markdown",
   "id": "62611465-b751-4c86-955f-c7001f6a1ccf",
   "metadata": {},
   "source": [
    "![test/CTCL/differential_analyses/shout/figures/violinplots/indiv_celltypes/T-cells_homophily_with_varying_radius.jpg](test/CTCL/differential_analyses/shout/figures/violinplots/indiv_celltypes/T-cells_homophily_with_varying_radius.jpg)"
   ]
  },
  {
   "cell_type": "markdown",
   "id": "5fa527b3-dc70-4be5-9349-896377bac91c",
   "metadata": {},
   "source": [
    "### c. Egophily:"
   ]
  },
  {
   "cell_type": "markdown",
   "id": "cd3e776a-28a9-48b3-97bc-6207c6dc3a19",
   "metadata": {},
   "source": [
    "![test/CTCL/differential_analyses/shout/figures/violinplots/indiv_celltypes/T-cells_egophily_with_varying_radius.jpg](test/CTCL/differential_analyses/shout/figures/violinplots/indiv_celltypes/T-cells_egophily_with_varying_radius.jpg)"
   ]
  },
  {
   "cell_type": "markdown",
   "id": "158b0293-5403-4dd8-ba5e-253146bef9e1",
   "metadata": {},
   "source": [
    "## 11. Unknown:"
   ]
  },
  {
   "cell_type": "markdown",
   "id": "0dba9cd7-0ecb-42fc-ad6b-5425dd87b61c",
   "metadata": {},
   "source": [
    "### a. Entropy:"
   ]
  },
  {
   "cell_type": "markdown",
   "id": "837f525e-b9df-4d12-9d25-ca08ecd96b85",
   "metadata": {},
   "source": [
    "![test/CTCL/differential_analyses/shout/figures/violinplots/indiv_celltypes/Unknown_entropy_with_varying_radius.jpg](test/CTCL/differential_analyses/shout/figures/violinplots/indiv_celltypes/Unknown_entropy_with_varying_radius.jpg)"
   ]
  },
  {
   "cell_type": "markdown",
   "id": "032493d0-2560-47cc-a72e-657284ca103d",
   "metadata": {},
   "source": [
    "### b. Homophily:"
   ]
  },
  {
   "cell_type": "markdown",
   "id": "9e0feeba-c4f0-44ef-b96a-4127ecf83f2c",
   "metadata": {},
   "source": [
    "![test/CTCL/differential_analyses/shout/figures/violinplots/indiv_celltypes/Unknown_homophily_with_varying_radius.jpg](test/CTCL/differential_analyses/shout/figures/violinplots/indiv_celltypes/Unknown_homophily_with_varying_radius.jpg)"
   ]
  },
  {
   "cell_type": "markdown",
   "id": "6eb9375b-0ae2-45c0-82f1-cb8c54d38854",
   "metadata": {},
   "source": [
    "### c. Egophily:"
   ]
  },
  {
   "cell_type": "markdown",
   "id": "68714394-3215-43dd-bf2d-70f13980093c",
   "metadata": {},
   "source": [
    "![test/CTCL/differential_analyses/shout/figures/violinplots/indiv_celltypes/Unknown_egophily_with_varying_radius.jpg](test/CTCL/differential_analyses/shout/figures/violinplots/indiv_celltypes/Unknown_egophily_with_varying_radius.jpg)"
   ]
  }
 ],
 "metadata": {
  "kernelspec": {
   "display_name": "Python 3 (ipykernel)",
   "language": "python",
   "name": "python3"
  },
  "language_info": {
   "codemirror_mode": {
    "name": "ipython",
    "version": 3
   },
   "file_extension": ".py",
   "mimetype": "text/x-python",
   "name": "python",
   "nbconvert_exporter": "python",
   "pygments_lexer": "ipython3",
   "version": "3.10.12"
  }
 },
 "nbformat": 4,
 "nbformat_minor": 5
}

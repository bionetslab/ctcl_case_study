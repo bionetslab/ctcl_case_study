{
 "cells": [
  {
   "cell_type": "markdown",
   "id": "deba1bad-f90c-4a57-9276-1b7171abcc22",
   "metadata": {},
   "source": [
    "# I. Background"
   ]
  },
  {
   "cell_type": "markdown",
   "id": "6895a212-42cb-442c-8162-e091729bc67a",
   "metadata": {},
   "source": [
    "Before sharing the observations, let me give you a quick background:\n",
    "- The data contains lots of significant differential signals, therefore analyzing them is a bit of a challenge.\n",
    "- Hence, I plotted the score-wise, condition-wise p-values across varying radius, for each of the cell types."
   ]
  },
  {
   "cell_type": "markdown",
   "id": "06d3f089-b4ee-4554-aff6-a636e489b1e6",
   "metadata": {},
   "source": [
    "### 1. Local entropy"
   ]
  },
  {
   "cell_type": "markdown",
   "id": "79efa881-3b05-497a-8b1d-290b365cd5d1",
   "metadata": {},
   "source": [
    "#### A. Eczema vs. PSO:"
   ]
  },
  {
   "cell_type": "markdown",
   "id": "3be2d046-2955-4874-ba09-eb8fac8355cc",
   "metadata": {},
   "source": [
    "<img src=\"figures/pvals_lineplots/lineplot_pvals_entropy_EczemavsPsoriasis.jpg\"/>![](figures/pvals_lineplots/lineplot_pvals_entropy_EczemavsPsoriasis.jpg)"
   ]
  },
  {
   "cell_type": "markdown",
   "id": "3796361d-310b-4281-bf10-4aa413b95742",
   "metadata": {},
   "source": [
    "#### B. Eczema vs TCL:"
   ]
  },
  {
   "cell_type": "markdown",
   "id": "9caea76c-8735-4e3e-a093-c3960dfbb248",
   "metadata": {},
   "source": [
    "![figures/pvals_lineplots/lineplot_pvals_entropy_EczemavsT-Cell_Lymphoma.jpg](figures/pvals_lineplots/lineplot_pvals_entropy_EczemavsT-Cell_Lymphoma.jpg)"
   ]
  },
  {
   "cell_type": "markdown",
   "id": "d94f6660-1421-4510-b7ec-2c02a4c7d443",
   "metadata": {},
   "source": [
    "#### C. PSO vs TCL:"
   ]
  },
  {
   "cell_type": "markdown",
   "id": "09d50f03-db4c-4264-a210-ae303fb7ce90",
   "metadata": {},
   "source": [
    "![figures/pvals_lineplots/lineplot_pvals_entropy_PsoriasisvsT-Cell_Lymphoma.jpg](figures/pvals_lineplots/lineplot_pvals_entropy_PsoriasisvsT-Cell_Lymphoma.jpg)"
   ]
  },
  {
   "cell_type": "markdown",
   "id": "96cf62b4-7e76-4556-8f60-d42ebc59221a",
   "metadata": {},
   "source": [
    "### 2. Local homophily:"
   ]
  },
  {
   "cell_type": "markdown",
   "id": "54e67488-1852-4604-af07-236a0963114f",
   "metadata": {},
   "source": [
    "#### A. Eczema vs PSO:"
   ]
  },
  {
   "cell_type": "markdown",
   "id": "c5c1bafd-f775-461a-9fb2-2e14039c27da",
   "metadata": {},
   "source": [
    "![figures/pvals_lineplots/lineplot_pvals_homophily_EczemavsPsoriasis.jpg](figures/pvals_lineplots/lineplot_pvals_homophily_EczemavsPsoriasis.jpg)"
   ]
  },
  {
   "cell_type": "markdown",
   "id": "ee74467b-3c3f-4524-b94c-435e816b898a",
   "metadata": {},
   "source": [
    "#### B. Eczema vs TCL:"
   ]
  },
  {
   "cell_type": "markdown",
   "id": "efa27c86-b37e-4722-81cc-c45de51f1501",
   "metadata": {},
   "source": [
    "![figures/pvals_lineplots/lineplot_pvals_homophily_EczemavsT-Cell_Lymphoma.jpg](figures/pvals_lineplots/lineplot_pvals_homophily_EczemavsT-Cell_Lymphoma.jpg)"
   ]
  },
  {
   "cell_type": "markdown",
   "id": "d911cfaa-35ee-4988-b650-d98464e174b8",
   "metadata": {},
   "source": [
    "#### C. PSO vs TCL:"
   ]
  },
  {
   "cell_type": "markdown",
   "id": "0a66401f-aaf6-45d8-bb90-0f7261fad140",
   "metadata": {},
   "source": [
    "![figures/pvals_lineplots/lineplot_pvals_homophily_PsoriasisvsT-Cell_Lymphoma.jpg](figures/pvals_lineplots/lineplot_pvals_homophily_PsoriasisvsT-Cell_Lymphoma.jpg)"
   ]
  },
  {
   "cell_type": "markdown",
   "id": "e7ae3b3b-2e30-4109-88e9-8195dd244511",
   "metadata": {},
   "source": [
    "### 3. Egophily:"
   ]
  },
  {
   "cell_type": "markdown",
   "id": "637ecd5a-3ff6-459e-b719-a822290744cc",
   "metadata": {},
   "source": [
    "#### A. Eczema vs PSO:"
   ]
  },
  {
   "cell_type": "markdown",
   "id": "30ca2623-3469-4560-8fa5-f3bc6c654969",
   "metadata": {},
   "source": [
    "![figures/pvals_lineplots/lineplot_pvals_egophily_EczemavsPsoriasis.jpg](figures/pvals_lineplots/lineplot_pvals_egophily_EczemavsPsoriasis.jpg)"
   ]
  },
  {
   "cell_type": "markdown",
   "id": "57e7c5bd-2bc2-40a7-b292-ac6ae28509b5",
   "metadata": {},
   "source": [
    "#### B. Eczema vs TCL:"
   ]
  },
  {
   "cell_type": "markdown",
   "id": "afd28b12-7ef1-4c4d-803b-5b4f08d3d282",
   "metadata": {},
   "source": [
    "![figures/pvals_lineplots/lineplot_pvals_egophily_EczemavsT-Cell_Lymphoma.jpg](figures/pvals_lineplots/lineplot_pvals_egophily_EczemavsT-Cell_Lymphoma.jpg)"
   ]
  },
  {
   "cell_type": "markdown",
   "id": "ebe38982-61c3-468b-9c6a-866838b701c9",
   "metadata": {},
   "source": [
    "#### C. PSO vs TCL:"
   ]
  },
  {
   "cell_type": "markdown",
   "id": "2972419a-dc6e-463d-ae52-54b3ba1cd4ba",
   "metadata": {},
   "source": [
    "![figures/pvals_lineplots/lineplot_pvals_egophily_PsoriasisvsT-Cell_Lymphoma.jpg](figures/pvals_lineplots/lineplot_pvals_egophily_PsoriasisvsT-Cell_Lymphoma.jpg)"
   ]
  },
  {
   "cell_type": "markdown",
   "id": "64862ceb-dbc2-4466-be9e-bd9b4b1b077a",
   "metadata": {},
   "source": [
    "# II. Observations:"
   ]
  },
  {
   "cell_type": "markdown",
   "id": "03751744-cafd-46ba-a81a-c03150454408",
   "metadata": {},
   "source": [
    "## A. Local entropy"
   ]
  },
  {
   "cell_type": "markdown",
   "id": "64f01cce-870b-4dc5-9025-61d54290ada7",
   "metadata": {},
   "source": [
    "- Macrophages exhibit are significantly differentiated local entropy scores in distinguishing ECZ vs PSO, ECZ vs TCL, and PSO vs TCL conditions. Macrophages have a significantly lower local entropy scores in PSO samples, medium value of local entropy scores in AD, and highest local entropy scores in CTCL samples across all distances.\n",
    "\n",
    "- Basal keratinocytes and endothelial cells are differentially expressed between AD vs PSO, AD vs CTCL, and PSO vs CTCL conditions in terms of local entropy scores. Basal keratinocytes are more prominent in AD vs CTCL and AD vs PSO, whereas endothelial cells are more prominent for AD vs PSO and PSO vs CTCL. Endothelial cells and basal keratinocytes have higher scores in CTCL, medium scores in PSO, and lowest scores in AD for all distances--although with higher distances, the differences in scores become more pronounced than with radius = 1. Furthermore, the score distributions stabilize and become unimodal from the multimodal ones with r=1.\n",
    "\n",
    "- For both AD vs CTCL and PSO vs CTCL, we see an increase in significantly differentiated local entropy scores for T-cells, with increasing radius; whereas for AD vs PSO, no such trend is observed. T-cell local entropy scores are higher in CTCL samples as compared to AD and PSO, as is expected."
   ]
  },
  {
   "cell_type": "markdown",
   "id": "be6f9e25-ede8-4908-b3dd-9a90ff251dd6",
   "metadata": {},
   "source": [
    "## B. Local homophily:"
   ]
  },
  {
   "cell_type": "markdown",
   "id": "52eee6ce-c4f8-4c59-ab73-1f0c828c99fe",
   "metadata": {},
   "source": [
    "- T-cells and basal keratinocytes exhibit strong differential signals for AD vs PSO, AD vs CTCL, and PSO vs CTCL conditions in terms of local hmophily scores. With increasing distance (r>1), T-cell homophily scores are significantly higher in CTCL samples than AD or PSO samples, as expected; however, at r=1, we have comparables median expressions. The homophily score of basal keratinocytes is higher in TCL samples than both AD and PSO samples, for all radii; and it keeps increasing with increasing radii. Both T-cells and basal keratinocytes exhibit multimodal distributions at r=1, however converge to bimodal distributions with increasing r."
   ]
  },
  {
   "cell_type": "markdown",
   "id": "fed06b0f-db17-4ae7-9070-89e7da1daaee",
   "metadata": {},
   "source": [
    "## C. Egophily:"
   ]
  },
  {
   "cell_type": "markdown",
   "id": "a3b7fab4-5d9d-4f03-986b-9c7791773c53",
   "metadata": {},
   "source": [
    "- T-cells, fibroblasts and suprabasal keratinocytes exhibit strong differential signals for AD vs PSO, AD vs CTCL, and PSO vs CTCL conditions; and they get differentially more significant with increasing distance.\n",
    "\n",
    "  T-cells have a higher egophily score in CTCL samples than AD and PSO, for all distances, as is expected. T-cell egophily scores are also significantly higher in PSO samples than AD, expect for r=1, where they are comparable.\n",
    "\n",
    "  Fibroblasts have a higher egophily score in CTCL samples than AD or PSO, for all radii; and the difference is significantly more for higher distances than at r=1. The scores are also higher in PSO samples than AD, except at r=1 where they are comparable. CTCL patients show a stabilization of egophily score across fibroblasts to a bimodal distribution with higher values of r, whereas no such observations can be made about AD or PSO samples.\n",
    "\n",
    "  Suprabasal keratinocytes have a higher egophily score in CTCL samples than AD or PSO, for higher distances (r>1); while at r=1, it is comparable to that of AD and PSO samples. Suprabasal keratinocytes have a significantly higher egophily score in PSO samples than AD, for higher distances (r>1); while at r=1, they are comparable."
   ]
  },
  {
   "cell_type": "markdown",
   "id": "06dd6c2d-a276-495b-bb0f-6ffbebb0de9c",
   "metadata": {},
   "source": [
    "# III. Results"
   ]
  },
  {
   "cell_type": "markdown",
   "id": "2cf51d46-4fb5-4dc4-8c2e-6bf0870584bd",
   "metadata": {},
   "source": [
    "## A. All celltypes:"
   ]
  },
  {
   "cell_type": "markdown",
   "id": "148e0e3c-aa54-402d-8180-f8c35b315631",
   "metadata": {},
   "source": [
    "## a. Entropy:"
   ]
  },
  {
   "cell_type": "markdown",
   "id": "1a2025e1-14e8-4e2f-8e92-bdf138ae9f8f",
   "metadata": {},
   "source": [
    "![figures/violinplots/all_cell_types/all_celltypes_entropy_with_varying_radius.jpg](figures/violinplots/all_cell_types/all_celltypes_entropy_with_varying_radius.jpg)"
   ]
  },
  {
   "cell_type": "markdown",
   "id": "e9477315-66c8-44ac-9b3c-fe9079f87b40",
   "metadata": {},
   "source": [
    "## b. Homophily:"
   ]
  },
  {
   "cell_type": "markdown",
   "id": "8658630a-419b-40e6-b9a1-f3f8ff951198",
   "metadata": {},
   "source": [
    "![figures/violinplots/all_cell_types/all_celltypes_homophily_with_varying_radius.jpg](figures/violinplots/all_cell_types/all_celltypes_homophily_with_varying_radius.jpg)"
   ]
  },
  {
   "cell_type": "markdown",
   "id": "3c07fd94-e2ce-4966-8028-89116255ea14",
   "metadata": {},
   "source": [
    "## c. Egophily:"
   ]
  },
  {
   "cell_type": "markdown",
   "id": "de14bd4d-05ff-4d78-ab56-ce2006245d69",
   "metadata": {},
   "source": [
    "![figures/violinplots/all_cell_types/all_celltypes_egophily_with_varying_radius.jpg](figures/violinplots/all_cell_types/all_celltypes_egophily_with_varying_radius.jpg)"
   ]
  },
  {
   "cell_type": "markdown",
   "id": "da3b0f58-f3ee-48f3-9ae6-717ea77521ef",
   "metadata": {},
   "source": [
    "## B. Individual celltypes:"
   ]
  },
  {
   "cell_type": "markdown",
   "id": "d046b202-0f69-47bc-bc3b-04ff40b6fe16",
   "metadata": {},
   "source": [
    "## 1. B-cells:"
   ]
  },
  {
   "cell_type": "markdown",
   "id": "35c4d377-eee6-402b-b4f0-650e2a4c94f1",
   "metadata": {},
   "source": [
    "### a. Entropy"
   ]
  },
  {
   "cell_type": "markdown",
   "id": "a621c707-b839-4c55-95f7-9297aaeac6d4",
   "metadata": {},
   "source": [
    "![figures/violinplots/indiv_celltypes/B-cells_entropy_with_varying_radius.jpg](figures/violinplots/indiv_celltypes/B-cells_entropy_with_varying_radius.jpg)"
   ]
  },
  {
   "cell_type": "markdown",
   "id": "aae077ca-e8d6-4d18-bbfe-f3b5ab124434",
   "metadata": {},
   "source": [
    "### b. Homophily:"
   ]
  },
  {
   "cell_type": "markdown",
   "id": "dd4a8bfd-113c-4910-bc64-a02407b226d5",
   "metadata": {},
   "source": [
    "![figures/violinplots/indiv_celltypes/B-cells_homophily_with_varying_radius.jpg](figures/violinplots/indiv_celltypes/B-cells_homophily_with_varying_radius.jpg)"
   ]
  },
  {
   "cell_type": "markdown",
   "id": "723bb076-5352-41c1-a6ac-1e7f8da9e4a0",
   "metadata": {},
   "source": [
    "### c. Egophily:"
   ]
  },
  {
   "cell_type": "markdown",
   "id": "48bf4020-9a2d-4ecf-85d3-1ee37b94d4ab",
   "metadata": {},
   "source": [
    "![figures/violinplots/indiv_celltypes/B-cells_egophily_with_varying_radius.jpg](figures/violinplots/indiv_celltypes/B-cells_egophily_with_varying_radius.jpg)"
   ]
  },
  {
   "cell_type": "markdown",
   "id": "35116fbb-8cb4-4369-887a-37ff1e112c65",
   "metadata": {},
   "source": [
    "## 2. Basal keratinocytes:"
   ]
  },
  {
   "cell_type": "markdown",
   "id": "ffff2e02-3430-426e-aaae-ed551d67eb50",
   "metadata": {},
   "source": [
    "### a. Entropy:"
   ]
  },
  {
   "cell_type": "markdown",
   "id": "7cc9f9f1-61bb-45ab-bc12-d9d4318ac830",
   "metadata": {},
   "source": [
    "![figures/violinplots/indiv_celltypes/Basal_keratinocytes_entropy_with_varying_radius.jpg](figures/violinplots/indiv_celltypes/Basal_keratinocytes_entropy_with_varying_radius.jpg)"
   ]
  },
  {
   "cell_type": "markdown",
   "id": "21d4cdfc-bc23-44c9-ae08-971b20599da2",
   "metadata": {},
   "source": [
    "### b. Homophily:"
   ]
  },
  {
   "cell_type": "markdown",
   "id": "37eff9d5-70ff-4fb0-9154-194a07c066ca",
   "metadata": {},
   "source": [
    "![figures/violinplots/indiv_celltypes/Basal_keratinocytes_homophily_with_varying_radius.jpg](figures/violinplots/indiv_celltypes/Basal_keratinocytes_homophily_with_varying_radius.jpg)"
   ]
  },
  {
   "cell_type": "markdown",
   "id": "dad7c4c4-b82e-46a2-bc19-11f2eef70fea",
   "metadata": {},
   "source": [
    "### c. Egophily:"
   ]
  },
  {
   "cell_type": "markdown",
   "id": "2a534e24-559b-4ffc-91a2-9a560e044725",
   "metadata": {},
   "source": [
    "![figures/violinplots/indiv_celltypes/Basal_keratinocytes_egophily_with_varying_radius.jpg](figures/violinplots/indiv_celltypes/Basal_keratinocytes_egophily_with_varying_radius.jpg)"
   ]
  },
  {
   "cell_type": "markdown",
   "id": "77b2b521-2eaa-441a-a5a2-f4cc22f91ca5",
   "metadata": {},
   "source": [
    "## 3. Endothelial cells:"
   ]
  },
  {
   "cell_type": "markdown",
   "id": "ea29ecee-3cd0-4021-94fd-e34c322212cb",
   "metadata": {},
   "source": [
    "### a. Entropy:"
   ]
  },
  {
   "cell_type": "markdown",
   "id": "d86c25de-a2ba-4385-aed7-2641de394f51",
   "metadata": {},
   "source": [
    "![figures/violinplots/indiv_celltypes/Endothelial_cells_entropy_with_varying_radius.jpg](figures/violinplots/indiv_celltypes/Endothelial_cells_entropy_with_varying_radius.jpg)"
   ]
  },
  {
   "cell_type": "markdown",
   "id": "6660926a-ee67-431d-bf70-04b7458c75c7",
   "metadata": {},
   "source": [
    "### b. Homophily:"
   ]
  },
  {
   "cell_type": "markdown",
   "id": "9752dd41-a25b-4b6d-ae4a-fb9efe3e6862",
   "metadata": {},
   "source": [
    "![figures/violinplots/indiv_celltypes/Endothelial_cells_homophily_with_varying_radius.jpg](figures/violinplots/indiv_celltypes/Endothelial_cells_homophily_with_varying_radius.jpg)"
   ]
  },
  {
   "cell_type": "markdown",
   "id": "65ace6f3-f248-4cf2-95c6-1eb67e8a2ccb",
   "metadata": {},
   "source": [
    "### c. Egophily:"
   ]
  },
  {
   "cell_type": "markdown",
   "id": "27f45eb8-d4f9-475d-bfcb-43424c1d6cb4",
   "metadata": {},
   "source": [
    "![figures/violinplots/indiv_celltypes/Endothelial_cells_egophily_with_varying_radius.jpg](figures/violinplots/indiv_celltypes/Endothelial_cells_egophily_with_varying_radius.jpg)"
   ]
  },
  {
   "cell_type": "markdown",
   "id": "e4856a75-34c4-408b-9045-a6e8887938f6",
   "metadata": {},
   "source": [
    "## 4. Fibroblasts:"
   ]
  },
  {
   "cell_type": "markdown",
   "id": "a2738fce-91f2-4373-9976-21bedb03a1d6",
   "metadata": {},
   "source": [
    "### a. Entropy:"
   ]
  },
  {
   "cell_type": "markdown",
   "id": "8312408d-371d-443a-8fce-9381a1de549b",
   "metadata": {},
   "source": [
    "![figures/violinplots/indiv_celltypes/Fibroblasts_entropy_with_varying_radius.jpg](figures/violinplots/indiv_celltypes/Fibroblasts_entropy_with_varying_radius.jpg)"
   ]
  },
  {
   "cell_type": "markdown",
   "id": "52e8c228-07fb-4f08-b3b9-76446d11d569",
   "metadata": {},
   "source": [
    "### b. Homophily:"
   ]
  },
  {
   "cell_type": "markdown",
   "id": "c2e2a32a-e5b7-477e-91ca-4e3de23c4957",
   "metadata": {},
   "source": [
    "![figures/violinplots/indiv_celltypes/Fibroblasts_entropy_with_varying_radius.jpg](figures/violinplots/indiv_celltypes/Fibroblasts_entropy_with_varying_radius.jpg)"
   ]
  },
  {
   "cell_type": "markdown",
   "id": "59881254-1d51-485c-8e4a-7aa95355a0be",
   "metadata": {},
   "source": [
    "### c. Egophily:"
   ]
  },
  {
   "cell_type": "markdown",
   "id": "ca50c5a4-7c9b-477d-95e5-25a0d719712a",
   "metadata": {},
   "source": [
    "![figures/violinplots/indiv_celltypes/Fibroblasts_entropy_with_varying_radius.jpg](figures/violinplots/indiv_celltypes/Fibroblasts_entropy_with_varying_radius.jpg)"
   ]
  },
  {
   "cell_type": "markdown",
   "id": "199e5967-0439-40d5-8058-c819d7eb0c70",
   "metadata": {},
   "source": [
    "## 5. Langerhans cells:"
   ]
  },
  {
   "cell_type": "markdown",
   "id": "abb5047e-9ec1-4e64-815d-5db04e0e1979",
   "metadata": {},
   "source": [
    "### a. Entropy:"
   ]
  },
  {
   "cell_type": "markdown",
   "id": "466dd5a5-4a98-49b4-ac19-a6628996c5c0",
   "metadata": {},
   "source": [
    "![figures/violinplots/indiv_celltypes/Langerhans_cells_entropy_with_varying_radius.jpg](figures/violinplots/indiv_celltypes/Langerhans_cells_entropy_with_varying_radius.jpg)"
   ]
  },
  {
   "cell_type": "markdown",
   "id": "ebd7ce55-aac4-4601-8fdc-ca9407c84eb2",
   "metadata": {},
   "source": [
    "### b. Homophily:"
   ]
  },
  {
   "cell_type": "markdown",
   "id": "130d2ed6-fded-4653-9ae2-7094dafed1a4",
   "metadata": {},
   "source": [
    "![figures/violinplots/indiv_celltypes/Langerhans_cells_homophily_with_varying_radius.jpg](figures/violinplots/indiv_celltypes/Langerhans_cells_homophily_with_varying_radius.jpg)"
   ]
  },
  {
   "cell_type": "markdown",
   "id": "be6f3f71-14ae-49c8-9e5c-177d37cf5a34",
   "metadata": {},
   "source": [
    "### c. Egophily:"
   ]
  },
  {
   "cell_type": "markdown",
   "id": "8c61d9b7-c410-4758-adfd-14291ce1862e",
   "metadata": {},
   "source": [
    "![figures/violinplots/indiv_celltypes/Langerhans_cells_egophily_with_varying_radius.jpg](figures/violinplots/indiv_celltypes/Langerhans_cells_egophily_with_varying_radius.jpg)"
   ]
  },
  {
   "cell_type": "markdown",
   "id": "b6c2e66c-106b-42a4-a9c8-ecd47ed7c609",
   "metadata": {},
   "source": [
    "## 6. Macrophages"
   ]
  },
  {
   "cell_type": "markdown",
   "id": "b1e16463-2836-41f6-a23c-8bb4394572d3",
   "metadata": {},
   "source": [
    "### a. Entropy:"
   ]
  },
  {
   "cell_type": "markdown",
   "id": "807cd49d-a806-404f-946b-c600b1e4c1e4",
   "metadata": {},
   "source": [
    "![figures/violinplots/indiv_celltypes/Macrophages_entropy_with_varying_radius.jpg](figures/violinplots/indiv_celltypes/Macrophages_entropy_with_varying_radius.jpg)"
   ]
  },
  {
   "cell_type": "markdown",
   "id": "3dec3923-3ac1-45b6-a92f-d182ef54e03a",
   "metadata": {},
   "source": [
    "### b. Homophily:"
   ]
  },
  {
   "cell_type": "markdown",
   "id": "dcd30d2c-88ad-4fd5-ac06-430bae09e4db",
   "metadata": {},
   "source": [
    "![figures/violinplots/indiv_celltypes/Macrophages_homophily_with_varying_radius.jpg](figures/violinplots/indiv_celltypes/Macrophages_homophily_with_varying_radius.jpg)"
   ]
  },
  {
   "cell_type": "markdown",
   "id": "c9b84d9d-e7ef-4929-af51-63c2dde796fe",
   "metadata": {},
   "source": [
    "### c. Egophily:"
   ]
  },
  {
   "cell_type": "markdown",
   "id": "9c96c642-6770-4031-9526-eddd00854a29",
   "metadata": {},
   "source": [
    "![figures/violinplots/indiv_celltypes/Macrophages_egophily_with_varying_radius.jpg](figures/violinplots/indiv_celltypes/Macrophages_egophily_with_varying_radius.jpg)"
   ]
  },
  {
   "cell_type": "markdown",
   "id": "888cf0ad-9a7c-41a7-a455-463245210b96",
   "metadata": {},
   "source": [
    "## 7. Melanocytes:"
   ]
  },
  {
   "cell_type": "markdown",
   "id": "e29fe758-400f-4d51-a1a4-b94516c4ac26",
   "metadata": {},
   "source": [
    "### a. Entropy:"
   ]
  },
  {
   "cell_type": "markdown",
   "id": "0cf5d18e-abb0-4402-82f7-f6d21c6429df",
   "metadata": {},
   "source": [
    "![figures/violinplots/indiv_celltypes/Melanocytes_entropy_with_varying_radius.jpg](figures/violinplots/indiv_celltypes/Melanocytes_entropy_with_varying_radius.jpg)"
   ]
  },
  {
   "cell_type": "markdown",
   "id": "1ff12293-d8a6-4642-a122-33a31fc5e52c",
   "metadata": {},
   "source": [
    "### b. Homophily:"
   ]
  },
  {
   "cell_type": "markdown",
   "id": "1cdf59be-67a2-4270-ac53-2b7837798e4d",
   "metadata": {},
   "source": [
    "![figures/violinplots/indiv_celltypes/Melanocytes_homophily_with_varying_radius.jpg](figures/violinplots/indiv_celltypes/Melanocytes_homophily_with_varying_radius.jpg)"
   ]
  },
  {
   "cell_type": "markdown",
   "id": "dae5cb8c-81c7-4032-b58b-91d9a4989593",
   "metadata": {},
   "source": [
    "## c. Egophily:"
   ]
  },
  {
   "cell_type": "markdown",
   "id": "d1cd9cce-655e-4bc6-968e-93546ca5d2e1",
   "metadata": {},
   "source": [
    "![figures/violinplots/indiv_celltypes/Melanocytes_egophily_with_varying_radius.jpg](figures/violinplots/indiv_celltypes/Melanocytes_egophily_with_varying_radius.jpg)"
   ]
  },
  {
   "cell_type": "markdown",
   "id": "e6f72405-1813-4362-a03a-a7af9f8fb77a",
   "metadata": {},
   "source": [
    "## 8. Smooth muscle cells:"
   ]
  },
  {
   "cell_type": "markdown",
   "id": "25c984c7-619c-458d-8799-979c603d5a8f",
   "metadata": {},
   "source": [
    "### a. Entropy:"
   ]
  },
  {
   "cell_type": "markdown",
   "id": "c607bbc9-806f-4cbf-ac49-ad357408a2f6",
   "metadata": {},
   "source": [
    "![figures/violinplots/indiv_celltypes/Smooth_muscle_cells_entropy_with_varying_radius.jpg](figures/violinplots/indiv_celltypes/Smooth_muscle_cells_entropy_with_varying_radius.jpg)"
   ]
  },
  {
   "cell_type": "markdown",
   "id": "5275cb3a-fac9-448a-9c8c-9c128ef62db7",
   "metadata": {},
   "source": [
    "### b. Homophily:"
   ]
  },
  {
   "cell_type": "markdown",
   "id": "dc78a51c-036d-4c14-a8e2-3cabfcb62d03",
   "metadata": {},
   "source": [
    "![ffigures/violinplots/indiv_celltypes/Smooth_muscle_cells_homophily_with_varying_radius.jpg](figures/violinplots/indiv_celltypes/Smooth_muscle_cells_homophily_with_varying_radius.jpg)"
   ]
  },
  {
   "cell_type": "markdown",
   "id": "4cf05072-d7d8-4e21-a31c-b637ea69e812",
   "metadata": {},
   "source": [
    "### c. Egophily:"
   ]
  },
  {
   "cell_type": "markdown",
   "id": "0429edc2-d2d4-4c76-a44e-84087efbcaec",
   "metadata": {},
   "source": [
    "![figures/violinplots/indiv_celltypes/Smooth_muscle_cells_egophily_with_varying_radius.jpg](figures/violinplots/indiv_celltypes/Smooth_muscle_cells_egophily_with_varying_radius.jpg)"
   ]
  },
  {
   "cell_type": "markdown",
   "id": "7c18e929-dbd1-49f5-b5eb-4723b1010076",
   "metadata": {},
   "source": [
    "## 9. Suprabasal keratinocytes:"
   ]
  },
  {
   "cell_type": "markdown",
   "id": "f313c7bb-e9a1-4ae2-a795-7fdec895e760",
   "metadata": {},
   "source": [
    "### a. Entropy:"
   ]
  },
  {
   "cell_type": "markdown",
   "id": "f744bd99-b48d-4833-99fa-29fd33f414b4",
   "metadata": {},
   "source": [
    "![figures/violinplots/indiv_celltypes/Suprabasal_keratinocytes_entropy_with_varying_radius.jpg](figures/violinplots/indiv_celltypes/Suprabasal_keratinocytes_entropy_with_varying_radius.jpg)"
   ]
  },
  {
   "cell_type": "markdown",
   "id": "6e157e76-2848-421c-8b3a-9719f8847ff1",
   "metadata": {},
   "source": [
    "### b. Homophily:"
   ]
  },
  {
   "cell_type": "markdown",
   "id": "4528237e-0e76-445b-ac5e-4cf308394d73",
   "metadata": {},
   "source": [
    "![figures/violinplots/indiv_celltypes/Suprabasal_keratinocytes_homophily_with_varying_radius.jpg](figures/violinplots/indiv_celltypes/Suprabasal_keratinocytes_homophily_with_varying_radius.jpg)"
   ]
  },
  {
   "cell_type": "markdown",
   "id": "a696ec3b-e195-4fed-9310-38997383fe7c",
   "metadata": {},
   "source": [
    "### c. Egophily:"
   ]
  },
  {
   "cell_type": "markdown",
   "id": "ba523d3f-9700-4425-a9db-99f3afeec838",
   "metadata": {},
   "source": [
    "![figures/violinplots/indiv_celltypes/Suprabasal_keratinocytes_egophily_with_varying_radius.jpg](figures/violinplots/indiv_celltypes/Suprabasal_keratinocytes_egophily_with_varying_radius.jpg)"
   ]
  },
  {
   "cell_type": "markdown",
   "id": "91ca75a8-a5e8-4d36-b80f-9135a257917f",
   "metadata": {},
   "source": [
    "## 10. T-cells:"
   ]
  },
  {
   "cell_type": "markdown",
   "id": "968db9ed-03f9-47cb-b30c-93fb89394404",
   "metadata": {},
   "source": [
    "### a. Entropy:"
   ]
  },
  {
   "cell_type": "markdown",
   "id": "fd63a551-9824-4bf4-895b-09fbf428854e",
   "metadata": {},
   "source": [
    "![figures/violinplots/indiv_celltypes/T-cells_entropy_with_varying_radius.jpg](figures/violinplots/indiv_celltypes/T-cells_entropy_with_varying_radius.jpg)"
   ]
  },
  {
   "cell_type": "markdown",
   "id": "cadd33b6-a610-4e6a-8138-684892882792",
   "metadata": {},
   "source": [
    "### b. Homophily:"
   ]
  },
  {
   "cell_type": "markdown",
   "id": "3750e637-175d-4726-814b-34ddabeef5db",
   "metadata": {},
   "source": [
    "![figures/violinplots/indiv_celltypes/T-cells_homophily_with_varying_radius.jpg](figures/violinplots/indiv_celltypes/T-cells_homophily_with_varying_radius.jpg)"
   ]
  },
  {
   "cell_type": "markdown",
   "id": "5fa527b3-dc70-4be5-9349-896377bac91c",
   "metadata": {},
   "source": [
    "### c. Egophily:"
   ]
  },
  {
   "cell_type": "markdown",
   "id": "a0a2eeeb-3676-4649-a132-63c16fd12b5d",
   "metadata": {},
   "source": [
    "![figures/violinplots/indiv_celltypes/T-cells_egophily_with_varying_radius.jpg](figures/violinplots/indiv_celltypes/T-cells_egophily_with_varying_radius.jpg)"
   ]
  },
  {
   "cell_type": "markdown",
   "id": "158b0293-5403-4dd8-ba5e-253146bef9e1",
   "metadata": {},
   "source": [
    "## 11. Unknown:"
   ]
  },
  {
   "cell_type": "markdown",
   "id": "0dba9cd7-0ecb-42fc-ad6b-5425dd87b61c",
   "metadata": {},
   "source": [
    "### a. Entropy:"
   ]
  },
  {
   "cell_type": "markdown",
   "id": "6c17720c-7cec-4364-9901-4244ededbbd9",
   "metadata": {},
   "source": [
    "![figures/violinplots/indiv_celltypes/Unknown_entropy_with_varying_radius.jpg](figures/violinplots/indiv_celltypes/Unknown_entropy_with_varying_radius.jpg)"
   ]
  },
  {
   "cell_type": "markdown",
   "id": "032493d0-2560-47cc-a72e-657284ca103d",
   "metadata": {},
   "source": [
    "### b. Homophily:"
   ]
  },
  {
   "cell_type": "markdown",
   "id": "b4ad9c55-4956-4a8c-a38c-8d2a8c038768",
   "metadata": {},
   "source": [
    "![figures/violinplots/indiv_celltypes/Unknown_homophily_with_varying_radius.jpg](figures/violinplots/indiv_celltypes/Unknown_homophily_with_varying_radius.jpg)"
   ]
  },
  {
   "cell_type": "markdown",
   "id": "6eb9375b-0ae2-45c0-82f1-cb8c54d38854",
   "metadata": {},
   "source": [
    "### c. Egophily:"
   ]
  },
  {
   "cell_type": "markdown",
   "id": "d7092283-9c7e-4aa0-9c96-fc72d4196e0c",
   "metadata": {},
   "source": [
    "![figures/violinplots/indiv_celltypes/Unknown_egophily_with_varying_radius.jpg](figures/violinplots/indiv_celltypes/Unknown_egophily_with_varying_radius.jpg)"
   ]
  }
 ],
 "metadata": {
  "kernelspec": {
   "display_name": "Python 3 (ipykernel)",
   "language": "python",
   "name": "python3"
  },
  "language_info": {
   "codemirror_mode": {
    "name": "ipython",
    "version": 3
   },
   "file_extension": ".py",
   "mimetype": "text/x-python",
   "name": "python",
   "nbconvert_exporter": "python",
   "pygments_lexer": "ipython3",
   "version": "3.10.12"
  }
 },
 "nbformat": 4,
 "nbformat_minor": 5
}
